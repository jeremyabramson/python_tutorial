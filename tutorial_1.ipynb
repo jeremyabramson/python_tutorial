{
 "cells": [
  {
   "cell_type": "markdown",
   "metadata": {
    "slideshow": {
     "slide_type": "slide"
    }
   },
   "source": [
    "## Introduction:\n",
    "1. Thanks for showing up!\n",
    "2. We all have Anaconda installed?  Great!\n",
    "3. If not, go here: "
   ]
  },
  {
   "cell_type": "markdown",
   "metadata": {
    "slideshow": {
     "slide_type": "slide"
    }
   },
   "source": [
    "## What we'll do today\n",
    "1.  Talk a little about what programming is (and isn't!)\n",
    "2.  Discuss the background you'll need to be able to do this (it's not magic!)\n",
    "3.  Get into some code!"
   ]
  },
  {
   "cell_type": "markdown",
   "metadata": {
    "slideshow": {
     "slide_type": "subslide"
    }
   },
   "source": [
    "## A Short Pep Talk (The good news)\n",
    " -  [Certain] people like to act like programming is some mystic art only the chosen few can master\n",
    "     - This is **100% false**\n",
    "     - You can do this!\n",
    " - You're probably already \"programming\" and don't even know it\n",
    "     - Do you sew?  Cook?  Climb mountains?  (Basically anything that has structured \"steps\")\n",
    "     - Convince yourself you're not really programming; you're just breaking down tasks into subtasks"
   ]
  },
  {
   "cell_type": "markdown",
   "metadata": {
    "slideshow": {
     "slide_type": "subslide"
    }
   },
   "source": [
    "## The Reality (Still good news...)\n",
    " - Programming = Algorithmic thinking + jargon (\"syntax\")\n",
    "     - People often miss this, and try to go straight to syntax\n",
    "     - You can do this, but it's unlikely you'll ever get \"good\"\n",
    " - The jargon part is straightforward!  Just requires memorization\n",
    "     - This doesn't come immediately, unfortunately.  Like anything, it takes practice and repetition\n",
    "     - But you probably do this already!  Does your job have its own language?\n",
    "         - Marketing: \"CPMs\" and \"CPCs\" and \"FAQs\" or whatever\n",
    "         - Skiing: \"Shredding the freshy pow pow\" (barf)\n",
    "         - Speaking another language\n",
    " - Algorithmic thinking is a little less straightforward\n",
    "     - You probably still do this (see above: cooking, sewing, etc.)\n",
    "     - That's what I'm here for!"
   ]
  },
  {
   "cell_type": "markdown",
   "metadata": {
    "slideshow": {
     "slide_type": "slide"
    }
   },
   "source": [
    "## So what is \"programming\"?\n",
    "- Basically, we want to do one (or more, mostly more) of the following things:\n",
    "1.  Input/output: Get some data from somewhere, and/or present some data to someone/some thing\n",
    "2.  Store variables in *data structures*: Take your data, put it in a specific format\n",
    "3.  Manipulate data: arithmetic, sorting, searching, machine learning, etc.\n"
   ]
  },
  {
   "cell_type": "markdown",
   "metadata": {
    "slideshow": {
     "slide_type": "fragment"
    }
   },
   "source": [
    "## So how do we do all of that?\n",
    "- We build a toolbox!\n",
    "    - Variables: `x`, `y`, `average_airspeed`, `feature_vector`, etc.\n",
    "    - Control flow (`if` statements): Make a decision to do this thing or that thing\n",
    "        - \"If the line at Tower 12 is short, go there, otherwise, go to Watermans\"\n",
    "    - Iteration (loops): \"Do this thing 10 times\"\n",
    "\n"
   ]
  },
  {
   "cell_type": "markdown",
   "metadata": {
    "slideshow": {
     "slide_type": "subslide"
    }
   },
   "source": [
    "## Putting it all together:\n",
    "- To program, you basically take a task, and break it down into sub-tasks\n",
    "- You figure out which thing in your subtask maps to which tool in your toolbox\n",
    "- You type the syntax you've memorized for that tool, and...that's it!\n",
    "    - Well, in theory 😝 \n",
    "\n",
    "\n"
   ]
  },
  {
   "cell_type": "markdown",
   "metadata": {
    "slideshow": {
     "slide_type": "fragment"
    }
   },
   "source": [
    "# LETS GET STARTED!\n",
    "(What questions do you have?)"
   ]
  },
  {
   "cell_type": "markdown",
   "metadata": {
    "slideshow": {
     "slide_type": "slide"
    }
   },
   "source": [
    "## Normally, people start with variables...\n",
    "<img src=\"images/Function_web.png\" align=\"right\"/>\n",
    "\n",
    "- We're gonna start with with functions\n",
    "- Remember this from algebra?\n",
    "\n",
    "- Programming functions are similar!\n",
    "\n",
    "- They consume **inputs**, and can potentially produce **output**.\n",
    "\n",
    "Image credit: machinelearningflashcards.com\n",
    "\n"
   ]
  },
  {
   "cell_type": "markdown",
   "metadata": {
    "slideshow": {
     "slide_type": "subslide"
    }
   },
   "source": [
    "## Let's try it!\n",
    "\n",
    "```python\n",
    "print(\"put the FUN in function\")\n",
    "```"
   ]
  },
  {
   "cell_type": "code",
   "execution_count": 2,
   "metadata": {
    "slideshow": {
     "slide_type": "fragment"
    }
   },
   "outputs": [
    {
     "name": "stdout",
     "output_type": "stream",
     "text": [
      "put the FUN in function\n"
     ]
    }
   ],
   "source": [
    "print(\"put the FUN in function\")"
   ]
  },
  {
   "cell_type": "markdown",
   "metadata": {
    "slideshow": {
     "slide_type": "fragment"
    }
   },
   "source": [
    "- Python has hundreds of *build in* functions (you don't need to do anything magic to get them).  \n",
    "    -`print` is one of them\n",
    "- We know it's a function by the use of *parenthesis*.  More on this shortly\n",
    "- The `input` is `\"put the FUN in function\"` (note: this **includes** the quotes\n",
    "- The `output` is `put the FUN in function` (without the quotes.  Don't sweat this yet!)\n"
   ]
  },
  {
   "cell_type": "code",
   "execution_count": null,
   "metadata": {
    "slideshow": {
     "slide_type": "subslide"
    }
   },
   "outputs": [],
   "source": [
    "print(\"let's try printing a few more things\")\n",
    "print(\"This is fun!  I could get used to this\")"
   ]
  },
  {
   "cell_type": "markdown",
   "metadata": {
    "slideshow": {
     "slide_type": "slide"
    }
   },
   "source": [
    "## Variables\n",
    "Okay, so we've used our first function.  Let's start defining some data!\n",
    "- Variables have different `types`: `integer`, `floading point`, `string`, etc.\n",
    "    - The input to the print functions above were `strings`.  We can tell because of the quotes!\n",
    "    - We can print other types too!\n",
    "- There are rules about what they can be named, but mostly just don't start them with an number\n",
    "    - And pick names that are meaningful!  `a` is bad.  `average_airspeed` is good!"
   ]
  },
  {
   "cell_type": "code",
   "execution_count": 5,
   "metadata": {
    "slideshow": {
     "slide_type": "fragment"
    }
   },
   "outputs": [],
   "source": [
    "# Let's define a variable.  We do this by typing a [valid] variable name and setting it equal to something\n",
    "x = 10\n",
    "# Notice this didn't produce any output.  Why is that?"
   ]
  },
  {
   "cell_type": "code",
   "execution_count": 6,
   "metadata": {
    "slideshow": {
     "slide_type": "fragment"
    }
   },
   "outputs": [
    {
     "name": "stdout",
     "output_type": "stream",
     "text": [
      "10\n"
     ]
    }
   ],
   "source": [
    "# We can print this out\n",
    "print(x)"
   ]
  },
  {
   "cell_type": "code",
   "execution_count": 11,
   "metadata": {
    "slideshow": {
     "slide_type": "subslide"
    }
   },
   "outputs": [],
   "source": [
    "# Define a few more variables:\n",
    "name = \"Jeremy Abramson\"    # this is a string\n",
    "height_in_feet = 6          # this is an integer\n",
    "height_in_inches = 4        # so is this\n",
    "weight = 205.4              # this is a floating point \"decimal\" number"
   ]
  },
  {
   "cell_type": "code",
   "execution_count": 12,
   "metadata": {
    "slideshow": {
     "slide_type": "fragment"
    }
   },
   "outputs": [
    {
     "data": {
      "text/plain": [
       "76"
      ]
     },
     "execution_count": 12,
     "metadata": {},
     "output_type": "execute_result"
    }
   ],
   "source": [
    "# Let's manipulate some data!\n",
    "height_in_feet * 12 + height_in_inches"
   ]
  },
  {
   "cell_type": "markdown",
   "metadata": {
    "slideshow": {
     "slide_type": "fragment"
    }
   },
   "source": [
    "Notice how we got some \"output\" without printing anything!  \n",
    "- That's because certain types of Python statements -- called `expressions` -- generate output\n",
    "    - This output is just the \"answer\" of the expression.  In this case, we're adding something, so the answer is the sum\n",
    "    - We can still `print()` the expression"
   ]
  },
  {
   "cell_type": "code",
   "execution_count": 14,
   "metadata": {
    "slideshow": {
     "slide_type": "fragment"
    }
   },
   "outputs": [
    {
     "name": "stdout",
     "output_type": "stream",
     "text": [
      "76\n"
     ]
    }
   ],
   "source": [
    "# Notice no quotes!  Why is that?\n",
    "print(height_in_feet * 12 + height_in_inches)"
   ]
  },
  {
   "cell_type": "markdown",
   "metadata": {
    "slideshow": {
     "slide_type": "subslide"
    }
   },
   "source": [
    "What's one issue with this?\n",
    "```python\n",
    "height_in_feet * 12 + height_in_inches\n",
    "```\n",
    "\n",
    "Thoughts?"
   ]
  },
  {
   "cell_type": "markdown",
   "metadata": {
    "slideshow": {
     "slide_type": "fragment"
    }
   },
   "source": [
    "We're not *storing* the result anywhere!\n",
    "So let's do that!"
   ]
  },
  {
   "cell_type": "code",
   "execution_count": 15,
   "metadata": {
    "slideshow": {
     "slide_type": "fragment"
    }
   },
   "outputs": [],
   "source": [
    "total_height = height_in_feet * 12 + height_in_inches"
   ]
  },
  {
   "cell_type": "code",
   "execution_count": 16,
   "metadata": {},
   "outputs": [
    {
     "name": "stdout",
     "output_type": "stream",
     "text": [
      "76\n"
     ]
    }
   ],
   "source": [
    "# huh.  We didn't get any output.  Let's see what we have\n",
    "print(total_height)"
   ]
  },
  {
   "cell_type": "code",
   "execution_count": null,
   "metadata": {
    "slideshow": {
     "slide_type": "fragment"
    }
   },
   "outputs": [],
   "source": []
  }
 ],
 "metadata": {
  "celltoolbar": "Slideshow",
  "kernelspec": {
   "display_name": "Python 3",
   "language": "python",
   "name": "python3"
  },
  "language_info": {
   "codemirror_mode": {
    "name": "ipython",
    "version": 3
   },
   "file_extension": ".py",
   "mimetype": "text/x-python",
   "name": "python",
   "nbconvert_exporter": "python",
   "pygments_lexer": "ipython3",
   "version": "3.7.3"
  }
 },
 "nbformat": 4,
 "nbformat_minor": 2
}
